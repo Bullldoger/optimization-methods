{
 "cells": [
  {
   "cell_type": "markdown",
   "metadata": {},
   "source": [
    "# HW3. Tasks"
   ]
  },
  {
   "cell_type": "markdown",
   "metadata": {},
   "source": [
    "## Task 2\n",
    "\n",
    "Derive gradient and Hessian matrix for $ f(x) = (Ax, x), $ - non symmetric matrix\n",
    "\n",
    "### Solution\n",
    "$$\n",
    "\\nabla f(x) = \\left [ \\dfrac{\\partial f}{\\partial x_k} \\right], \\text{ where } f(x) = \\sum_{i = 1}^n \\sum_{j = 1}^n x_i a_{ij} x_j \\implies \\\\\n",
    "\\dfrac{\\partial f}{\\partial x_k} = \\dfrac{\\partial}{\\partial x_k} \\sum_{i = 1}^n \\sum_{j = 1}^n x_i a_{ij} x_j = \\sum_{j = 1}^n x_k a_{kj} + \\sum_{j = 1}^n a_{jk} x_k \\implies \\nabla f(x) = x^\\top (A + A^\\top) \\\\\n",
    "\\nabla^2 f(x) =  \\left [ \\dfrac{\\partial^2 f}{\\partial x_k \\partial x_l} \\right] \\\\\n",
    "\\dfrac{\\partial^2}{\\partial x_k \\partial x_l} \\sum_{i = 1}^n \\sum_{j = 1}^n x_i a_{ij} x_j = \\dfrac{\\partial}{\\partial x_l} \\left [ \\sum_{j = 1}^n x_k a_{kj} + \\sum_{j = 1}^n a_{jk} x_k \\right ] = a_{lk} + a_{kl} \\implies \\\\ \\nabla^2 f(x) = A + A^\\top\n",
    "$$"
   ]
  },
  {
   "cell_type": "markdown",
   "metadata": {},
   "source": [
    "## Task 4\n",
    "\n",
    "Prove that all sub-level sets $ Q(c) = \\{ x : f(x) \\leq c \\} $ of a strongly convex function $ f(·) $ are bounded.\n",
    "\n",
    "### Solution\n",
    "\n",
    "$$\n",
    "f(x) \\text{ strongly convex function } : \\\\ \n",
    "f(y) \\geq f(x) + \\nabla f(x) (y - x) + \\dfrac{m}{2} || y - x ||_2^2, \\forall y, x \\in \\text{ dom } f \\\\\n",
    "\\text{ by definition of } Q(c) = \\{ x : f(x) \\leq c \\} \\implies \\\\ c \\geq f(y) \\geq f(x) + \\nabla f(x) (y - x) + \\dfrac{m}{2} || y - x ||_2^2, \\forall y, x \\in \\text{ dom } f \\\\ \\text{ Assume that } x = x^* \\implies \\\\ c \\geq f(y) \\geq f(x^*) + \\nabla f(x^*) (y - x^*) + \\dfrac{m}{2} || y - x^* ||_2^2 \\implies  \\\\ \\dfrac{m}{2} || y - x^* ||_2^2 \\leq c - f^*, \\forall y \\in Q(c)\n",
    "$$\n",
    "It is means boundness of $ Q(c) $"
   ]
  },
  {
   "cell_type": "markdown",
   "metadata": {},
   "source": [
    "## Task 5\n",
    "\n",
    "Assume a convex function $ f : R^k \\rightarrow R $ has non-empty epigraph. $ A $ support hyperplane to the epigraph set has equation $ (c, x) + b = 0 $. What are the dimensions of c and b?\n",
    "\n",
    "### Answer\n",
    "$$\n",
    "b \\in R, c \\in R^k\n",
    "$$"
   ]
  },
  {
   "cell_type": "markdown",
   "metadata": {},
   "source": [
    "## Task 6\n",
    "\n",
    "Find conjugate function $ f^*(y) for f(x) = (Qx,x) $ with $ Q ≻ 0 $\n",
    "\n",
    "### Solution\n",
    "\n",
    "$$\n",
    "f^*(y) = sup_{x \\in \\text{dom } f} \\left [ y^\\top x - x^\\top Q x \\right ] = sup_{x \\in R^{n}} \\left [ y^\\top x - x^\\top Q x \\right ]\n",
    "\\\\\n",
    "\\dfrac{d}{dx} \\left [ y^\\top x - x^\\top Q x \\right ] = y - x^\\top Q^\\top + x^\\top Q = 0 \\implies y - x^\\top \\left ( Q^\\top + Q \\right ) = 0\n",
    "\\\\\n",
    "\\left [ \\left ( Q^\\top + Q \\right )^{-1} \\right ]^\\top y^\\top = x\n",
    "$$\n",
    "<strong>NOTE</strong> There is exit inverse matrix of $ Q : (Q > 0) \\implies Q + Q^\\top $ invertable\n",
    "$$\n",
    "f^*(y) = y^\\top \\left [ \\left ( Q^\\top + Q \\right )^{-1} \\right ]^\\top y^\\top - y \\left [ \\left ( Q^\\top + Q \\right )^{-1} \\right ] Q \\left [ \\left ( Q^\\top + Q \\right )^{-1} \\right ]^\\top y^\\top = \\\\ = \\left [ y^\\top - y \\left [ \\left ( Q^\\top + Q \\right )^{-1} \\right ]   \\right ]  \\left [ \\left ( Q^\\top + Q \\right )^{-1} \\right ]^\\top y^\\top \n",
    "$$"
   ]
  },
  {
   "cell_type": "markdown",
   "metadata": {},
   "source": [
    "## Task 7\n",
    "\n",
    "Solve one-dimensional problem (approximation by constant)\n",
    "$$\n",
    "min_{z \\in R} \\dfrac{1}{m} \\sum_{i = 1}^m \\left (z - x_i \\right )^2\n",
    "$$\n",
    "\n",
    "### Solution\n",
    "$$\n",
    "f(z) = \\dfrac{1}{m} \\sum_{i = 1}^m \\left (z - x_i \\right )^2 \\implies \\dfrac{df}{dz} (z) = \\dfrac{2}{m} \\sum_{i = 1}^m \\left (z - x_i \\right ) = 0 \\leftrightarrow \\dfrac{2 m}{m} z - \\dfrac{2}{m} \\sum_{i = 1}^m x_i = 0 \\\\ z = \\dfrac{2}{m} \\dfrac{\\sum_{i = 1}^m x_i}{2} = \\dfrac{\\sum_{i = 1}^m x_i}{m} = x_{\\text{mean}} \\\\\n",
    "min_{z \\in R} \\dfrac{1}{m} \\sum_{i = 1}^m \\left (z - x_i \\right )^2 = \\dfrac{1}{m} \\sum_{i = 1}^m \\left (x_{\\text{mean}} - x_i \\right )^2\n",
    "$$"
   ]
  },
  {
   "cell_type": "markdown",
   "metadata": {},
   "source": [
    "## Task 8\n",
    "\n",
    "Best approximating line (coefficients $ a, b \\in R $).\n",
    "$$\n",
    "min_{a, b} \\dfrac{1}{m} \\sum_{i = 1}^m ( a x_i + b - y_i )^2\n",
    "$$\n",
    "### Solution\n",
    "$$\n",
    "f(a, b) = \\dfrac{1}{m} \\sum_{i = 1}^m ( a x_i + b - y_i )^2 \\implies\n",
    "\\begin{cases}\n",
    "    \\dfrac{\\partial f}{\\partial a} = \\dfrac{2}{m} \\sum_{i = 1}^m ( a x_i + b - y_i ) x_i = 0 \\\\\n",
    "    \\dfrac{\\partial f}{\\partial b} = \\dfrac{2}{m} \\sum_{i = 1}^m ( a x_i + b - y_i ) = 0\n",
    "\\end{cases} = \\\\ = \\begin{cases}\n",
    "    \\dfrac{2}{m} \\sum_{i = 1}^m ( a x_i^2 + b x_i - y_i x_i )  = 0 \\\\\n",
    "    \\dfrac{2}{m} \\sum_{i = 1}^m ( a x_i + b - y_i ) = 0\n",
    "\\end{cases} = \\\\ = \\begin{cases}\n",
    "    a \\dfrac{2}{m} \\sum_{i = 1}^m x_i^2 + b \\dfrac{2}{m} \\sum_{i = 1}^m x_i = \\dfrac{2}{m} \\sum_{i = 1}^m y_i x_i \\\\\n",
    "    a \\dfrac{2}{m} \\sum_{i = 1}^m x_i + 2 b = \\dfrac{2}{m} \\sum_{i = 1}^m y_i\n",
    "\\end{cases} \\implies \\\\\n",
    "$$\n",
    "This system was solved by Kramer's method:\n",
    "$$\n",
    "\\begin{bmatrix}\n",
    "    \\dfrac{2}{m} \\sum_{i = 1}^m x_i^2 & \\dfrac{2}{m} \\sum_{i = 1}^m x_i \\\\\n",
    "    \\dfrac{2}{m} \\sum_{i = 1}^m x_i & 2\n",
    "\\end{bmatrix} \\times \\begin{bmatrix}\n",
    "    a \\\\\n",
    "    b\n",
    "\\end{bmatrix} = \\begin{bmatrix}\n",
    "    \\dfrac{2}{m} \\sum_{i = 1}^m y_i x_i \\\\\n",
    "    \\dfrac{2}{m} \\sum_{i = 1}^m y_i\n",
    "\\end{bmatrix} \\implies \\\\\n",
    "\\begin{cases}\n",
    "    \\Delta = \\dfrac{4}{m} \\sum_{i = 1}^m x_i^2 - \\left ( \\dfrac{2}{m} \\sum_{i = 1}^m x_i \\right ) \\left ( \\dfrac{2}{m} \\sum_{i = 1}^m x_i \\right ) \\\\\n",
    "    \\Delta_a = \\dfrac{4}{m} \\sum_{i = 1}^m y_i x_i - \\left ( \\dfrac{2}{m} \\sum_{i = 1}^m x_i \\right ) \\left ( \\dfrac{2}{m} \\sum_{i = 1}^m y_i \\right ) \\\\\n",
    "    \\Delta_b = \\left ( \\dfrac{2}{m} \\sum_{i = 1}^m x_i^2 \\right ) \\left ( \\dfrac{2}{m} \\sum_{i = 1}^m y_i \\right ) - \\left ( \\dfrac{2}{m} \\sum_{i = 1}^m y_i x_i \\right ) \\left ( \\dfrac{2}{m} \\sum_{i = 1}^m x_i \\right )\n",
    "\\end{cases} \\\\ \\implies \\\\ \\begin{cases}\n",
    "    a = \\dfrac{\\Delta_a}{\\Delta} = \\dfrac{\\dfrac{4}{m} \\sum_{i = 1}^m y_i x_i - \\left ( \\dfrac{2}{m} \\sum_{i = 1}^m x_i \\right ) \\left ( \\dfrac{2}{m} \\sum_{i = 1}^m y_i \\right )}{\\dfrac{4}{m} \\sum_{i = 1}^m x_i^2 - \\left ( \\dfrac{2}{m} \\sum_{i = 1}^m x_i \\right ) \\left ( \\dfrac{2}{m} \\sum_{i = 1}^m x_i \\right )} \\\\\n",
    "    b = \\dfrac{\\Delta_b}{\\Delta} = \\dfrac{\\left ( \\dfrac{2}{m} \\sum_{i = 1}^m x_i^2 \\right ) \\left ( \\dfrac{2}{m} \\sum_{i = 1}^m y_i \\right ) - \\left ( \\dfrac{2}{m} \\sum_{i = 1}^m y_i x_i \\right ) \\left ( \\dfrac{2}{m} \\sum_{i = 1}^m x_i \\right )}{\\dfrac{4}{m} \\sum_{i = 1}^m x_i^2 - \\left ( \\dfrac{2}{m} \\sum_{i = 1}^m x_i \\right ) \\left ( \\dfrac{2}{m} \\sum_{i = 1}^m x_i \\right )}\n",
    "\\end{cases}\n",
    "$$"
   ]
  },
  {
   "cell_type": "markdown",
   "metadata": {},
   "source": [
    "## Task 9"
   ]
  },
  {
   "cell_type": "markdown",
   "metadata": {},
   "source": [
    "## Task 10\n",
    "\n",
    "Solve the following “projection on a Euclidean ball” problem via dual function. The $ c, z \\in R^n $ and $ r > 0 $ are parameters.\n",
    "$$\n",
    "min_{z \\in R^n : || x - c || \\leq r } ||z - x||_2\n",
    "$$\n",
    "### Solution\n",
    "$$\n",
    "L(x, \\lambda) = f(x) + \\lambda g(x) = ||z - x||_2 + \\lambda \\left( || x - c || - r \\right ) \\\\\n",
    "d(\\lambda) = inf_{x} L(x, \\lambda) = inf_{x} \\left [ ||z - x||_2 + \\lambda \\left( || x - c || - r \\right ) \\right ] \\\\\n",
    "\\dfrac{d }{dx} ||z - x||_2 + \\lambda \\left( || x - c || - r \\right ) = 0 \\implies \n",
    "2 ( z - x )^\\top + 2 \\lambda ( x - c )^\\top = 0 \\rightarrow \\\\ \\rightarrow x = \\dfrac{\\lambda}{\\lambda - 1} c - \\dfrac{1}{\\lambda - 1} z \\\\\n",
    "d(\\lambda) = ||z - \\dfrac{\\lambda}{\\lambda - 1} c + \\dfrac{1}{\\lambda - 1} z||_2 + \\lambda \\left( || \\dfrac{\\lambda}{\\lambda - 1} c - \\dfrac{1}{\\lambda - 1} z - c || - r \\right ) = \\\\ = ||\\dfrac{\\lambda}{\\lambda - 1} c - \\dfrac{\\lambda}{\\lambda - 1} z||_2 + \\lambda \\left( || \\dfrac{1}{\\lambda - 1} c - \\dfrac{1}{\\lambda - 1} z|| - r \\right ) \\\\ \n",
    "q^* = sup_{\\lambda \\geq 0} \\left [ ||\\dfrac{\\lambda}{\\lambda - 1} c - \\dfrac{\\lambda}{\\lambda - 1} z||_2 + \\lambda \\left( || \\dfrac{1}{\\lambda - 1} c - \\dfrac{1}{\\lambda - 1} z|| - r \\right ) \\right ] \\\\ \n",
    "\\dfrac{d}{d \\lambda } ||\\dfrac{\\lambda}{\\lambda - 1} c - \\dfrac{\\lambda}{\\lambda - 1} z||_2 + \\lambda \\left( || \\dfrac{1}{\\lambda - 1} c - \\dfrac{1}{\\lambda - 1} z|| - r \\right ) = \\\\ = \\left \\{ C = || c - z || \\right \\} = \\dfrac{d}{d \\lambda } \\left [ | \\dfrac{\\lambda}{\\lambda - 1} | C + | \\dfrac{\\lambda}{\\lambda - 1} |  C - r \\right ] = \\\\ = \\dfrac{d}{d \\lambda } \\left [ 2 | \\dfrac{\\lambda}{\\lambda - 1} | C  - r \\right ] = \\begin{cases}\n",
    "    \\dfrac{d}{d \\lambda } \\left [ 2 \\dfrac{\\lambda}{1 - \\lambda} C  - r \\right ], \\lambda < 1 \\\\\n",
    "    \\dfrac{d}{d \\lambda } \\left [ 2 \\dfrac{\\lambda}{\\lambda - 1} C  - r \\right ], \\lambda > 1\n",
    "\\end{cases} = \\\\ = \\begin{cases}\n",
    "    \\lambda = 1 - \\sqrt{ 2 \\dfrac{C}{r} }, \\lambda < 1 \\\\\n",
    "    \\lambda = 1 + \\sqrt{ -2 \\dfrac{C}{r} }, \\lambda > 1 \\\\\n",
    "\\end{cases} \\implies \\lambda^* = 1 - \\sqrt{ 2 \\dfrac{C}{r} }\n",
    "$$\n",
    "Then, we substitute $ \\lambda^* $:\n",
    "$$\n",
    "q^* = d(\\lambda^*) = 2 | \\dfrac{\\lambda}{\\lambda - 1} | C  - r = 2 \\dfrac{1 - \\sqrt{ 2 \\dfrac{|| c - z ||_2}{r} }}{\\sqrt{ 2 \\dfrac{|| c - z ||_2}{r} }} || c - z ||_2  - r\n",
    "$$"
   ]
  },
  {
   "cell_type": "markdown",
   "metadata": {},
   "source": [
    "## Task 11\n",
    "\n",
    "Find projection of a point to hyperplane $ Q = \\{ (a, x) = b \\} $, with projection defined as a closest point on the set:\n",
    "$$\n",
    "min_{(a, x) = b} || x - z ||_2\n",
    "$$\n",
    "\n",
    "### Solution\n",
    "$$\n",
    "\\begin{cases}\n",
    "    f(x) = || x - z ||_2 \\\\\n",
    "    g(x) = (a, x) - b = 0\n",
    "\\end{cases} \\implies L(x, \\lambda) = f(x) + \\lambda g(x) = || x - z ||_2 + \\lambda \\left (  (a, x) - b \\right ) \\\\\n",
    "d(\\lambda) = inf_{x} \\left [ || x - z ||_2 + \\lambda \\left (  (a, x) - b \\right ) \\right ] \\implies \\dfrac{d }{d x} d(\\lambda) = \\dfrac{d }{d x} \\left [ || x - z ||_2 + \\lambda \\left (  (a, x) - b \\right ) \\right ] = 0 \\\\\n",
    "2 ( x - z ) + \\lambda a = 0 \\leftrightarrow x = -\\dfrac{\\lambda}{2} a + z \\\\\n",
    "d(\\lambda) = || -\\dfrac{\\lambda}{2} a + z - z ||_2 + \\lambda \\left (  (a, -\\dfrac{\\lambda}{2} a + z) - b \\right ) \\\\\n",
    "q^* = sup_{ \\lambda } d(\\lambda) = sup_{\\lambda} \\left [ || -\\dfrac{\\lambda}{2} a ||_2 + \\lambda \\left (  (a, -\\dfrac{\\lambda}{2} a + z) - b \\right ) \\right ] = \\\\\n",
    "= sup_{\\lambda} \\left [ || -\\dfrac{\\lambda}{2} a ||_2 + \\lambda \\left (  -\\dfrac{\\lambda}{2} (a,  a)  + (a, z) - b \\right ) \\right ] = \n",
    "sup_{\\lambda} \\left [ \\left (|-\\dfrac{\\lambda}{2}| - \\lambda | \\dfrac{\\lambda}{2} | \\right ) ||  a ||_2 + \\lambda \\left ( (a, z) - b \\right ) \\right ] \\implies \\\\\n",
    "\\dfrac{d}{d \\lambda} \\left [ \\left (|-\\dfrac{\\lambda}{2}| - \\lambda | \\dfrac{\\lambda}{2} | \\right ) ||  a ||_2 + \\lambda \\left ( (a, z) - b \\right ) \\right ] = \\begin{cases}\n",
    "    \\dfrac{d}{d \\lambda} \\left [ \\left (\\dfrac{\\lambda}{2} - \\lambda \\dfrac{\\lambda}{2} \\right ) ||  a ||_2 + \\lambda \\left ( (a, z) - b \\right ) \\right ] = 0, \\lambda > 0 \\\\\n",
    "    \\dfrac{d}{d \\lambda} \\left [ \\left (-\\dfrac{\\lambda}{2} + \\lambda \\dfrac{\\lambda}{2} \\right ) ||  a ||_2 + \\lambda \\left ( (a, z) - b \\right ) \\right ] = 0, \\lambda \\leq 0\n",
    "\\end{cases} = \\\\ = \\begin{cases}\n",
    "    \\left (\\dfrac{1}{2} - \\lambda \\right ) ||  a ||_2 + \\left ( (a, z) - b \\right ) = 0, \\lambda > 0 \\\\\n",
    "    \\left (-\\dfrac{1}{2} + \\lambda \\right ) ||  a ||_2 + \\left ( (a, z) - b \\right ) = 0, \\lambda \\leq 0\n",
    "\\end{cases} = \\begin{cases}\n",
    "    \\lambda = \\dfrac{1}{||  a ||_2} \\left ( (a, z) - b \\right ) + \\dfrac{1}{2}, \\lambda > 0 \\\\\n",
    "    \\lambda = - \\dfrac{1}{||  a ||_2} \\left ( (a, z) - b \\right ) + \\dfrac{1}{2}, \\lambda \\leq 0\n",
    "\\end{cases} \\implies \\\\ d(\\lambda) = \\left [ \\left (|-\\dfrac{\\lambda}{2}| - \\lambda | \\dfrac{\\lambda}{2} | \\right ) ||  a ||_2 + \\lambda \\left ( (a, z) - b \\right ) \\right ]\n",
    "$$\n",
    "Where $ \\lambda $ depends on sign of : $ - \\dfrac{1}{||  a ||_2} \\left ( (a, z) - b \\right ) + \\dfrac{1}{2} $"
   ]
  },
  {
   "cell_type": "markdown",
   "metadata": {},
   "source": [
    "## Task 13\n",
    "\n",
    "a. Derive (Lagrange) dual function $ d(·) $, and write down dual problem for the following primal problem: $ min_{(Ax,x) \\leq 1} (c, x) $\n",
    "\n",
    "### Solution\n",
    "$$\n",
    "L(x, \\lambda) = (c, x) + \\lambda (Ax, x), d(\\lambda) = inf_x \\left[ (c, x) + \\lambda (A x, x) \\right ] \\\\\n",
    "\\dfrac{d}{d x} (c, x) + \\lambda (A x, x) = c + \\lambda x^\\top \\left ( A^\\top + A \\right ) = 0 \\\\ \\leftrightarrow \\\\ x = -\\lambda \\left [ \\left ( A^\\top + A \\right )^{-1} \\right ]^\\top c^\\top, \n",
    "d(\\lambda) = (c, -\\lambda \\left [ \\left ( A^\\top + A \\right )^{-1} \\right ]^\\top c^\\top) + \\lambda ( -\\lambda A \\left [ \\left ( A^\\top + A \\right )^{-1} \\right ]^\\top c^\\top, -\\lambda \\left [ \\left ( A^\\top + A \\right )^{-1} \\right ]^\\top c^\\top)\n",
    "$$"
   ]
  },
  {
   "cell_type": "code",
   "execution_count": null,
   "metadata": {},
   "outputs": [],
   "source": []
  }
 ],
 "metadata": {
  "kernelspec": {
   "display_name": "Python 3",
   "language": "python",
   "name": "python3"
  },
  "language_info": {
   "codemirror_mode": {
    "name": "ipython",
    "version": 3
   },
   "file_extension": ".py",
   "mimetype": "text/x-python",
   "name": "python",
   "nbconvert_exporter": "python",
   "pygments_lexer": "ipython3",
   "version": "3.6.6"
  }
 },
 "nbformat": 4,
 "nbformat_minor": 2
}
