{
 "cells": [
  {
   "cell_type": "markdown",
   "metadata": {},
   "source": [
    "# HW3. Tasks"
   ]
  },
  {
   "cell_type": "markdown",
   "metadata": {},
   "source": [
    "## Task 6\n",
    "\n",
    "Find conjugate function $ f^*(y) for f(x) = (Qx,x) $ with $ Q ≻ 0 $\n",
    "\n",
    "### Solution\n",
    "\n",
    "$$\n",
    "f^*(y) = sup_{x \\in \\text{dom } f} \\left [ y^\\top x - x^\\top Q x \\right ] = sup_{x \\in R^{n}} \\left [ y^\\top x - x^\\top Q x \\right ]\n",
    "\\\\\n",
    "\\dfrac{d}{dx} \\left [ y^\\top x - x^\\top Q x \\right ] = y - x^\\top Q^\\top + x^\\top Q = 0 \\implies y - x^\\top \\left ( Q^\\top + Q \\right ) = 0\n",
    "\\\\\n",
    "\\left [ \\left ( Q^\\top + Q \\right )^{-1} \\right ]^\\top y^\\top = x\n",
    "$$\n",
    "<strong>NOTE</strong> There is exit inverse matrix of $ Q : (Q > 0) \\implies Q + Q^\\top $ invertable\n",
    "$$\n",
    "f^*(y) = y^\\top \\left [ \\left ( Q^\\top + Q \\right )^{-1} \\right ]^\\top y^\\top - y \\left [ \\left ( Q^\\top + Q \\right )^{-1} \\right ] Q \\left [ \\left ( Q^\\top + Q \\right )^{-1} \\right ]^\\top y^\\top = \\\\ = \\left [ y^\\top - y \\left [ \\left ( Q^\\top + Q \\right )^{-1} \\right ]   \\right ]  \\left [ \\left ( Q^\\top + Q \\right )^{-1} \\right ]^\\top y^\\top \n",
    "$$"
   ]
  },
  {
   "cell_type": "markdown",
   "metadata": {},
   "source": [
    "## Task 7\n",
    "\n",
    "Solve one-dimensional problem (approximation by constant)\n",
    "$$\n",
    "min_{z \\in R} \\dfrac{1}{m} \\sum_{i = 1}^m \\left (z - x_i \\right )^2\n",
    "$$\n",
    "\n",
    "### Solution\n",
    "$$\n",
    "f(z) = \\dfrac{1}{m} \\sum_{i = 1}^m \\left (z - x_i \\right )^2 \\implies \\dfrac{df}{dz} (z) = \\dfrac{2}{m} \\sum_{i = 1}^m \\left (z - x_i \\right ) = 0 \\leftrightarrow \\dfrac{2 m}{m} z - \\dfrac{2}{m} \\sum_{i = 1}^m x_i = 0 \\\\ z = \\dfrac{2}{m} \\dfrac{\\sum_{i = 1}^m x_i}{2} = \\dfrac{\\sum_{i = 1}^m x_i}{m} = x_{\\text{mean}} \\\\\n",
    "min_{z \\in R} \\dfrac{1}{m} \\sum_{i = 1}^m \\left (z - x_i \\right )^2 = \\dfrac{1}{m} \\sum_{i = 1}^m \\left (x_{\\text{mean}} - x_i \\right )^2\n",
    "$$"
   ]
  },
  {
   "cell_type": "markdown",
   "metadata": {},
   "source": [
    "## Task 8\n",
    "\n",
    "Best approximating line (coefficients $ a, b \\in R $).\n",
    "$$\n",
    "min_{a, b} \\dfrac{1}{m} \\sum_{i = 1}^m ( a x_i + b - y_i )^2\n",
    "$$\n",
    "### Solution\n",
    "$$\n",
    "f(a, b) = \\dfrac{1}{m} \\sum_{i = 1}^m ( a x_i + b - y_i )^2 \\implies\n",
    "\\begin{cases}\n",
    "    \\dfrac{\\partial f}{\\partial a} = \\dfrac{2}{m} \\sum_{i = 1}^m ( a x_i + b - y_i ) x_i = 0 \\\\\n",
    "    \\dfrac{\\partial f}{\\partial b} = \\dfrac{2}{m} \\sum_{i = 1}^m ( a x_i + b - y_i ) = 0\n",
    "\\end{cases} = \\begin{cases}\n",
    "    \\dfrac{2}{m} \\sum_{i = 1}^m ( a x_i^2 + b x_i - y_i x_i )  = 0 \\\\\n",
    "    \\dfrac{2}{m} \\sum_{i = 1}^m ( a x_i + b - y_i ) = 0\n",
    "\\end{cases} = \\begin{cases}\n",
    "    a \\dfrac{2}{m} \\sum_{i = 1}^m x_i^2 + b \\dfrac{2}{m} \\sum_{i = 1}^m x_i = \\dfrac{2}{m} \\sum_{i = 1}^m y_i x_i \\\\\n",
    "    a \\dfrac{2}{m} \\sum_{i = 1}^m x_i + 2 b = \\dfrac{2}{m} \\sum_{i = 1}^m y_i\n",
    "\\end{cases} \\implies \\\\\n",
    "$$\n",
    "This system was solved by Kramer's method:\n",
    "$$\n",
    "\\begin{bmatrix}\n",
    "    \\dfrac{2}{m} \\sum_{i = 1}^m x_i^2 & \\dfrac{2}{m} \\sum_{i = 1}^m x_i \\\\\n",
    "    \\dfrac{2}{m} \\sum_{i = 1}^m x_i & 2\n",
    "\\end{bmatrix} \\times \\begin{bmatrix}\n",
    "    a \\\\\n",
    "    b\n",
    "\\end{bmatrix} = \\begin{bmatrix}\n",
    "    \\dfrac{2}{m} \\sum_{i = 1}^m y_i x_i \\\\\n",
    "    \\dfrac{2}{m} \\sum_{i = 1}^m y_i\n",
    "\\end{bmatrix} \\implies \\\\\n",
    "\\begin{cases}\n",
    "    \\Delta = \\dfrac{4}{m} \\sum_{i = 1}^m x_i^2 - \\left ( \\dfrac{2}{m} \\sum_{i = 1}^m x_i \\right ) \\left ( \\dfrac{2}{m} \\sum_{i = 1}^m x_i \\right ) \\\\\n",
    "    \\Delta_a = \\dfrac{4}{m} \\sum_{i = 1}^m y_i x_i - \\left ( \\dfrac{2}{m} \\sum_{i = 1}^m x_i \\right ) \\left ( \\dfrac{2}{m} \\sum_{i = 1}^m y_i \\right ) \\\\\n",
    "    \\Delta_b = \\left ( \\dfrac{2}{m} \\sum_{i = 1}^m x_i^2 \\right ) \\left ( \\dfrac{2}{m} \\sum_{i = 1}^m y_i \\right ) - \\left ( \\dfrac{2}{m} \\sum_{i = 1}^m y_i x_i \\right ) \\left ( \\dfrac{2}{m} \\sum_{i = 1}^m x_i \\right )\n",
    "\\end{cases} \\implies \\begin{cases}\n",
    "    a = \\dfrac{\\Delta_a}{\\Delta} = \\dfrac{\\dfrac{4}{m} \\sum_{i = 1}^m y_i x_i - \\left ( \\dfrac{2}{m} \\sum_{i = 1}^m x_i \\right ) \\left ( \\dfrac{2}{m} \\sum_{i = 1}^m y_i \\right )}{\\dfrac{4}{m} \\sum_{i = 1}^m x_i^2 - \\left ( \\dfrac{2}{m} \\sum_{i = 1}^m x_i \\right ) \\left ( \\dfrac{2}{m} \\sum_{i = 1}^m x_i \\right )} \\\\\n",
    "    b = \\dfrac{\\Delta_b}{\\Delta} = \\dfrac{\\left ( \\dfrac{2}{m} \\sum_{i = 1}^m x_i^2 \\right ) \\left ( \\dfrac{2}{m} \\sum_{i = 1}^m y_i \\right ) - \\left ( \\dfrac{2}{m} \\sum_{i = 1}^m y_i x_i \\right ) \\left ( \\dfrac{2}{m} \\sum_{i = 1}^m x_i \\right )}{\\dfrac{4}{m} \\sum_{i = 1}^m x_i^2 - \\left ( \\dfrac{2}{m} \\sum_{i = 1}^m x_i \\right ) \\left ( \\dfrac{2}{m} \\sum_{i = 1}^m x_i \\right )}\n",
    "\\end{cases}\n",
    "$$"
   ]
  },
  {
   "cell_type": "markdown",
   "metadata": {},
   "source": [
    "## Task 10\n",
    "\n",
    "Solve the following “projection on a Euclidean ball” problem via dual function. The $ c, z \\in R^n $ and $ r > 0 $ are parameters.\n",
    "$$\n",
    "min_{z \\in R^n : || x - c || \\leq r } ||z - x||_2\n",
    "$$\n",
    "### Solution\n",
    "$$\n",
    "L(x, \\lambda) = f(x) + \\lambda g(x) = ||z - x||_2 + \\lambda \\left( || x - c || - r \\right ) \\\\\n",
    "d(\\lambda) = inf_{x} L(x, \\lambda) = inf_{x} \\left [ ||z - x||_2 + \\lambda \\left( || x - c || - r \\right ) \\right ] \\\\\n",
    "\\dfrac{d }{dx} ||z - x||_2 + \\lambda \\left( || x - c || - r \\right ) = 0 \\implies \n",
    "2 ( z - x )^\\top + 2 \\lambda ( x - c )^\\top = 0 \\rightarrow \\\\ \\rightarrow x = \\dfrac{\\lambda}{\\lambda - 1} c - \\dfrac{1}{\\lambda - 1} z \\\\\n",
    "d(\\lambda) = ||z - \\dfrac{\\lambda}{\\lambda - 1} c + \\dfrac{1}{\\lambda - 1} z||_2 + \\lambda \\left( || \\dfrac{\\lambda}{\\lambda - 1} c - \\dfrac{1}{\\lambda - 1} z - c || - r \\right ) = \\\\ = ||\\dfrac{\\lambda}{\\lambda - 1} c - \\dfrac{\\lambda}{\\lambda - 1} z||_2 + \\lambda \\left( || \\dfrac{1}{\\lambda - 1} c - \\dfrac{1}{\\lambda - 1} z|| - r \\right ) \\\\ \n",
    "q^* = sup_{\\lambda \\geq 0} \\left [ ||\\dfrac{\\lambda}{\\lambda - 1} c - \\dfrac{\\lambda}{\\lambda - 1} z||_2 + \\lambda \\left( || \\dfrac{1}{\\lambda - 1} c - \\dfrac{1}{\\lambda - 1} z|| - r \\right ) \\right ] \\\\ \n",
    "\\dfrac{d}{d \\lambda } ||\\dfrac{\\lambda}{\\lambda - 1} c - \\dfrac{\\lambda}{\\lambda - 1} z||_2 + \\lambda \\left( || \\dfrac{1}{\\lambda - 1} c - \\dfrac{1}{\\lambda - 1} z|| - r \\right ) = \\left \\{ C = || c - z || \\right \\} = \\dfrac{d}{d \\lambda } \\left [ | \\dfrac{\\lambda}{\\lambda - 1} | C + | \\dfrac{\\lambda}{\\lambda - 1} |  C - r \\right ] = \\dfrac{d}{d \\lambda } \\left [ 2 | \\dfrac{\\lambda}{\\lambda - 1} | C  - r \\right ] = \\begin{cases}\n",
    "    \\dfrac{d}{d \\lambda } \\left [ 2 \\dfrac{\\lambda}{1 - \\lambda} C  - r \\right ], \\lambda < 1 \\\\\n",
    "    \\dfrac{d}{d \\lambda } \\left [ 2 \\dfrac{\\lambda}{\\lambda - 1} C  - r \\right ], \\lambda > 1\n",
    "\\end{cases} = \\\\ = \\begin{cases}\n",
    "    \\lambda = 1 - \\sqrt{ 2 \\dfrac{C}{r} }, \\lambda < 1 \\\\\n",
    "    \\lambda = 1 + \\sqrt{ -2 \\dfrac{C}{r} }, \\lambda > 1 \\\\\n",
    "\\end{cases} \\implies \\lambda^* = 1 - \\sqrt{ 2 \\dfrac{C}{r} }\n",
    "$$\n",
    "Then, we substitute $ \\lambda^* $:\n",
    "$$\n",
    "p^* = d(\\lambda^*) = 2 | \\dfrac{\\lambda}{\\lambda - 1} | C  - r = 2 | \\dfrac{1 - \\sqrt{ 2 \\dfrac{|| c - z ||_2}{r} }}{\\sqrt{ 2 \\dfrac{|| c - z ||_2}{r} }} | || c - z ||_2  - r\n",
    "$$"
   ]
  }
 ],
 "metadata": {
  "kernelspec": {
   "display_name": "Python 3",
   "language": "python",
   "name": "python3"
  },
  "language_info": {
   "codemirror_mode": {
    "name": "ipython",
    "version": 3
   },
   "file_extension": ".py",
   "mimetype": "text/x-python",
   "name": "python",
   "nbconvert_exporter": "python",
   "pygments_lexer": "ipython3",
   "version": "3.6.6"
  }
 },
 "nbformat": 4,
 "nbformat_minor": 2
}
