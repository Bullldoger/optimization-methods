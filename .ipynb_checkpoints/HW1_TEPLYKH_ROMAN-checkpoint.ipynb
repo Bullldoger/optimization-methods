{
 "cells": [
  {
   "cell_type": "code",
   "execution_count": 1,
   "metadata": {},
   "outputs": [],
   "source": [
    "import numpy as np\n",
    "\n",
    "import matplotlib\n",
    "import matplotlib.pyplot as plt"
   ]
  },
  {
   "cell_type": "markdown",
   "metadata": {},
   "source": [
    "## Task 1"
   ]
  },
  {
   "cell_type": "markdown",
   "metadata": {},
   "source": [
    "<i>\n",
    "    Find the dimensions (height - $ h $, radius - $ r $) that will minimize \n",
    "the surface areaof the metal to manufacture a circular cylindrical can of volume $ V $.\n",
    "</i>"
   ]
  },
  {
   "cell_type": "markdown",
   "metadata": {},
   "source": [
    "### Solution"
   ]
  },
  {
   "cell_type": "markdown",
   "metadata": {},
   "source": [
    "$$\n",
    "\\begin{cases}\n",
    "    V = \\pi r^2 h = const \\\\\n",
    "    min_{h, r} S(h, r) = 2 \\pi r h + 2 \\pi r^2\n",
    "\\end{cases}\n",
    "\\implies\n",
    "\\begin{cases}\n",
    "    h = \\dfrac{V}{\\pi r^2} \\\\\n",
    "    min_{r} A(r) = \\dfrac{2 V}{r} + 2 \\pi r^2\n",
    "\\end{cases}\n",
    "$$"
   ]
  },
  {
   "cell_type": "markdown",
   "metadata": {},
   "source": [
    "Point that minimize $ A(r) $ must satisfy to the condition $$ d A(h, r) = 0, d^2 A(r) > 0 $$"
   ]
  },
  {
   "cell_type": "markdown",
   "metadata": {},
   "source": [
    "$$\n",
    "\\dfrac{d A}{d r} = -\\dfrac{2 V}{r^2} + 4 \\pi r = \\dfrac{- 2 V + 4 \\pi r^3}{r^2} = 0 \\\\\n",
    "\\begin{cases}\n",
    "    - 2 V + 4 \\pi r^3 = 0 \\\\\n",
    "    r \\ne 0 \\\\\n",
    "    h = \\dfrac{V}{\\pi r^2}\n",
    "\\end{cases}\n",
    "\\implies\n",
    "\\begin{cases}\n",
    "    r = {\\left ( \\dfrac{V}{2 \\pi} \\right ) }^{\\dfrac{1}{3}} \\\\\n",
    "    h = \\dfrac{V}{\\pi {\\left ( \\dfrac{V}{2 \\pi} \\right ) }^{\\dfrac{2}{3}}}\n",
    "\\end{cases}\n",
    "\\implies\n",
    "\\begin{cases}\n",
    "    r = {\\left ( \\dfrac{2 V}{4 \\pi} \\right ) }^{\\dfrac{1}{3}} \\\\\n",
    "    h = \\dfrac{V^{\\dfrac{1}{3}}}{\\pi {\\left ( \\dfrac{1}{2 \\pi} \\right ) }^{\\dfrac{2}{3}}} \\\\\n",
    "    \\textbf{For all } V \\geq 0\n",
    "\\end{cases}\n",
    "$$"
   ]
  },
  {
   "cell_type": "markdown",
   "metadata": {},
   "source": [
    "## Task 2"
   ]
  },
  {
   "cell_type": "markdown",
   "metadata": {},
   "source": [
    "Consider the unconstrained optimization problem to minimize the function $ f(x) = \\dfrac{3}{2}(x^2_1 + x^2_2) + (1 + a) x_1 x_2 − (x_1 + x_2) + b $, where $ a $ and $ b $ are real-valued parameters. Find all values of $ a $ and $ b $ such that the problem has a unique optimal solution."
   ]
  },
  {
   "cell_type": "markdown",
   "metadata": {},
   "source": [
    "### Solution"
   ]
  },
  {
   "cell_type": "markdown",
   "metadata": {},
   "source": [
    "$ f(x_1, x_2) = \\dfrac{3}{2}(x^2_1 + x^2_2) + (1 + a) x_1 x_2 − (x_1 + x_2) + b $\n",
    "Criteria for minimum:\n",
    "$$\n",
    "\\begin{cases}\n",
    "    d f(x_1, x_2) = 0 \\\\\n",
    "    d^2 f(x_1, x_2) \\geq 0\n",
    "\\end{cases}\n",
    "\\implies\n",
    "\\begin{cases}\n",
    "    d f(x_1, x_2) = \\left (3 x_1 + (1 + a) x_2 - 1 \\right ) d x_1 + \\left (3 x_2 + (1 + a) x_1 - 1 \\right ) d x_2 \\\\\n",
    "    d^2 f(x_1, x_2) = 7 + a \\geq 0\n",
    "\\end{cases}\n",
    "$$"
   ]
  },
  {
   "cell_type": "markdown",
   "metadata": {},
   "source": [
    "In matrix form:\n",
    "$$\n",
    "\\begin{bmatrix}\n",
    "    3 & 1 + a \\\\\n",
    "    1 + a & 3\n",
    "\\end{bmatrix} \n",
    "\\begin{bmatrix}\n",
    "    x_1 \\\\\n",
    "    x_2\n",
    "\\end{bmatrix} = \n",
    "\\begin{bmatrix}\n",
    "    1 \\\\\n",
    "    1\n",
    "\\end{bmatrix} \\implies\n",
    "$$\n",
    "<strong>Cramer's rule</strong>\n",
    "$$\n",
    "\\begin{cases}\n",
    "    det = 9 - ({1 + a}^2) \\neq 0 \\\\\n",
    "    det_{x_1} = 3 - (a + 1) \\\\\n",
    "    det_{x_2} = 3 - (a + 1)\n",
    "\\end{cases} \\implies\n",
    "x_1 = x_2 = \\dfrac{1}{4 + a} \\implies a \\neq 0\n",
    "\\implies\n",
    "\\begin{cases}\n",
    "    a \\geq -7 \\\\\n",
    "    a \\neq 2 \\\\\n",
    "    a \\neq -4 \\\\\n",
    "    \\textbf{For all } b\n",
    "\\end{cases} \\implies\n",
    "$$"
   ]
  }
 ],
 "metadata": {
  "kernelspec": {
   "display_name": "Python 3",
   "language": "python",
   "name": "python3"
  },
  "language_info": {
   "codemirror_mode": {
    "name": "ipython",
    "version": 3
   },
   "file_extension": ".py",
   "mimetype": "text/x-python",
   "name": "python",
   "nbconvert_exporter": "python",
   "pygments_lexer": "ipython3",
   "version": "3.6.6"
  }
 },
 "nbformat": 4,
 "nbformat_minor": 2
}
